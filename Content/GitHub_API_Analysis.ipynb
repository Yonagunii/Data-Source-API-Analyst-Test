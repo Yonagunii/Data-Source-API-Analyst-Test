{
  "nbformat": 4,
  "nbformat_minor": 0,
  "metadata": {
    "colab": {
      "provenance": []
    },
    "kernelspec": {
      "name": "python3",
      "display_name": "Python 3"
    },
    "language_info": {
      "name": "python"
    }
  },
  "cells": [
    {
      "cell_type": "code",
      "execution_count": 1,
      "metadata": {
        "colab": {
          "base_uri": "https://localhost:8080/"
        },
        "id": "9u9MCKDvL-7J",
        "outputId": "8d329f12-44a8-4f53-be82-e250b732dd3d"
      },
      "outputs": [
        {
          "output_type": "stream",
          "name": "stdout",
          "text": [
            "Collecting python-dotenv\n",
            "  Downloading python_dotenv-1.1.1-py3-none-any.whl.metadata (24 kB)\n",
            "Requirement already satisfied: requests in /usr/local/lib/python3.11/dist-packages (2.32.3)\n",
            "Requirement already satisfied: charset-normalizer<4,>=2 in /usr/local/lib/python3.11/dist-packages (from requests) (3.4.2)\n",
            "Requirement already satisfied: idna<4,>=2.5 in /usr/local/lib/python3.11/dist-packages (from requests) (3.10)\n",
            "Requirement already satisfied: urllib3<3,>=1.21.1 in /usr/local/lib/python3.11/dist-packages (from requests) (2.4.0)\n",
            "Requirement already satisfied: certifi>=2017.4.17 in /usr/local/lib/python3.11/dist-packages (from requests) (2025.6.15)\n",
            "Downloading python_dotenv-1.1.1-py3-none-any.whl (20 kB)\n",
            "Installing collected packages: python-dotenv\n",
            "Successfully installed python-dotenv-1.1.1\n"
          ]
        }
      ],
      "source": [
        "!pip install python-dotenv requests\n",
        "import requests\n",
        "import os\n",
        "from dotenv import load_dotenv\n",
        "\n",
        "from google.colab import userdata\n",
        "token = userdata.get('GITHUB_TOKEN')\n",
        "\n",
        "def get_repositories(token, query=\"language:python\"):\n",
        "  url = \"https://api.github.com/search/repositories\"\n",
        "  headers = {\n",
        "      \"Authorization\": f\"Bearer {token}\"\n",
        "      \"X-GitHub-Api-Version\": \"2022-11-28\n",
        "  }\n",
        "  response = requests.get(url, headers=headers, params=params)\n",
        "  return response.json()\n",
        "\n",
        "# Some Examples\n",
        "repos = get_repositories(token)\n",
        "print(repos)"
      ]
    }
  ]
}